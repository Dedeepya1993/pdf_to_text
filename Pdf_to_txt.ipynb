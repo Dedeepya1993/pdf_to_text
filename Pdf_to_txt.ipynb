{
  "nbformat": 4,
  "nbformat_minor": 0,
  "metadata": {
    "colab": {
      "name": "Pdf_to_txt.ipynb",
      "provenance": [],
      "collapsed_sections": []
    },
    "kernelspec": {
      "name": "python3",
      "display_name": "Python 3"
    },
    "language_info": {
      "name": "python"
    }
  },
  "cells": [
    {
      "cell_type": "code",
      "metadata": {
        "colab": {
          "base_uri": "https://localhost:8080/"
        },
        "id": "_O8on6gvqb3O",
        "outputId": "56b56f2b-f984-4aca-f9bf-4d6b240893f2"
      },
      "source": [
        "!pip install -r requirements.txt"
      ],
      "execution_count": 18,
      "outputs": [
        {
          "output_type": "stream",
          "text": [
            "Requirement already satisfied: pymupdf==1.18.14 in /usr/local/lib/python3.7/dist-packages (from -r requirements.txt (line 1)) (1.18.14)\n",
            "Requirement already satisfied: pandas==1.1.5 in /usr/local/lib/python3.7/dist-packages (from -r requirements.txt (line 2)) (1.1.5)\n",
            "Requirement already satisfied: seaborn==0.11.1 in /usr/local/lib/python3.7/dist-packages (from -r requirements.txt (line 3)) (0.11.1)\n",
            "Requirement already satisfied: scikit-learn==0.22.2.post1 in /usr/local/lib/python3.7/dist-packages (from -r requirements.txt (line 4)) (0.22.2.post1)\n",
            "Requirement already satisfied: numpy==1.19.5 in /usr/local/lib/python3.7/dist-packages (from -r requirements.txt (line 5)) (1.19.5)\n",
            "Requirement already satisfied: pytz>=2017.2 in /usr/local/lib/python3.7/dist-packages (from pandas==1.1.5->-r requirements.txt (line 2)) (2018.9)\n",
            "Requirement already satisfied: python-dateutil>=2.7.3 in /usr/local/lib/python3.7/dist-packages (from pandas==1.1.5->-r requirements.txt (line 2)) (2.8.1)\n",
            "Requirement already satisfied: matplotlib>=2.2 in /usr/local/lib/python3.7/dist-packages (from seaborn==0.11.1->-r requirements.txt (line 3)) (3.2.2)\n",
            "Requirement already satisfied: scipy>=1.0 in /usr/local/lib/python3.7/dist-packages (from seaborn==0.11.1->-r requirements.txt (line 3)) (1.4.1)\n",
            "Requirement already satisfied: joblib>=0.11 in /usr/local/lib/python3.7/dist-packages (from scikit-learn==0.22.2.post1->-r requirements.txt (line 4)) (1.0.1)\n",
            "Requirement already satisfied: six>=1.5 in /usr/local/lib/python3.7/dist-packages (from python-dateutil>=2.7.3->pandas==1.1.5->-r requirements.txt (line 2)) (1.15.0)\n",
            "Requirement already satisfied: pyparsing!=2.0.4,!=2.1.2,!=2.1.6,>=2.0.1 in /usr/local/lib/python3.7/dist-packages (from matplotlib>=2.2->seaborn==0.11.1->-r requirements.txt (line 3)) (2.4.7)\n",
            "Requirement already satisfied: cycler>=0.10 in /usr/local/lib/python3.7/dist-packages (from matplotlib>=2.2->seaborn==0.11.1->-r requirements.txt (line 3)) (0.10.0)\n",
            "Requirement already satisfied: kiwisolver>=1.0.1 in /usr/local/lib/python3.7/dist-packages (from matplotlib>=2.2->seaborn==0.11.1->-r requirements.txt (line 3)) (1.3.1)\n"
          ],
          "name": "stdout"
        }
      ]
    },
    {
      "cell_type": "code",
      "metadata": {
        "id": "VQN3U4Oz9139"
      },
      "source": [
        "import fitz\n",
        "import pandas as pd\n",
        "import seaborn as sns\n",
        "from sklearn.cluster import DBSCAN\n",
        "from sklearn.preprocessing import StandardScaler,MinMaxScaler\n",
        "import numpy as np\n"
      ],
      "execution_count": 19,
      "outputs": []
    },
    {
      "cell_type": "code",
      "metadata": {
        "colab": {
          "base_uri": "https://localhost:8080/"
        },
        "id": "4fZW2S8S8wLv",
        "outputId": "17333380-9f72-4421-e178-b78447490639"
      },
      "source": [
        "pdf_document = \"keppel-corporation-limited-annual-report-2018.pdf\"\n",
        "doc = fitz.open(pdf_document)\n",
        "page_number = 11\n",
        "page = doc.loadPage(page_number)\n",
        "pagetext = page.getText(\"text\")\n",
        "print(pagetext)"
      ],
      "execution_count": 20,
      "outputs": [
        {
          "output_type": "stream",
          "text": [
            "While pursuing new markets and opportunities, \n",
            "we are growing our stable and recurring income \n",
            "from the quality operations and maintenance \n",
            "services provided by Infrastructure Services. \n",
            "Keppel Electric has been the largest electricity \n",
            "retailer in Singapore in terms of market share in \n",
            "the commercial and industrial sector. Following \n",
            "the launch of the Open Electricity Market (OEM) \n",
            "in Singapore, Keppel Electric is also making \n",
            "headway into the housing electricity market. \n",
            "Starting from 1 November 2018, the OEM is \n",
            "being progressively extended to all consumers \n",
            "across Singapore by zones. The response to \n",
            "Keppel Electric’s retail offerings for households \n",
            "has been encouraging, with preliminary \n",
            "results showing that it is among the retailers \n",
            "with the largest market shares in the OEM. \n",
            "Keppel T&T is scaling up its logistics and \n",
            "data centre solutions to tap opportunities \n",
            "created by the fast-growing digital economy. \n",
            "With the burgeoning growth of cloud service \n",
            "providers as well as increasing storage \n",
            "and processing requirements, our data \n",
            "centre business is well positioned to tap \n",
            "growth opportunities. \n",
            "In 2018, we added four new data centre projects \n",
            "across Asia and Europe to our portfolio. This \n",
            "expands our portfolio to 22 data centres with \n",
            "a total value of about $2.7 billion. To further \n",
            "grow its capabilities, Keppel T&T is also \n",
            "exploring innovative solutions such as high-rise \n",
            "green data centres and floating water-cooled \n",
            "data centre parks, which tap Keppel O&M’s \n",
            "expertise in floating infrastructure.\n",
            "Expanding into new markets, we have, \n",
            "through the Alpha Data Centre Fund \n",
            "(Alpha DC Fund) and Keppel Data Centres \n",
            "Holding (KDCH), signed conditional agreements \n",
            "with the Salim Group to jointly develop and \n",
            "operate a high-availability data centre in Bogor, \n",
            "about 35 kilometres from Jakarta. Alpha DC \n",
            "Fund and KDCH have also inked agreements \n",
            "with a leading technology company to develop \n",
            "and operate their first greenfield data centre in \n",
            "Johor, Malaysia. Meanwhile, Keppel Logistics \n",
            "focused on streamlining processes and \n",
            "resources for better cost management while \n",
            "seeking new opportunities in urban logistics. \n",
            "We continued to drive the growth of UrbanFox, \n",
            "our omnichannel logistics and channel \n",
            "management solutions brand. UrbanFox’s \n",
            "customer base has grown significantly, with \n",
            "deliveries doubling over the course of 2018. \n",
            "UrbanFox also plans to launch its integrated \n",
            "channel management in other countries in \n",
            "Southeast Asia, leveraging Keppel’s presence \n",
            "in those markets.\n",
            "Investments \n",
            "2018 was an active year for our \n",
            "Investments Division.\n",
            "Keppel Capital announced acquisitions worth \n",
            "over $2 billion and explored new platforms \n",
            "for long-term growth, including expanding \n",
            "into new markets and asset classes, \n",
            "focusing on areas which harness the \n",
            "capabilities of the Keppel Group. \n",
            "With a view to tapping opportunities in \n",
            "the fast-growing senior living market, \n",
            "Keppel Capital entered into a conditional \n",
            "equity purchase agreement to acquire a \n",
            "50% stake in leading US senior living operator, \n",
            "Watermark Retirement Communities. It has \n",
            "also signed Memoranda of Understanding \n",
            "(MOUs) to establish new private funds to \n",
            "invest in education real estate, and retail \n",
            "properties in Australia. \n",
            "Our listed REITs and Trust have also \n",
            "been expanding their portfolios. In Australia, \n",
            "Keppel DC REIT is enlarging its data centre \n",
            "footprint with a new shell and core data \n",
            "centre, to be built in the Macquarie Business \n",
            "Park precinct in Sydney. In the US, Keppel-\n",
            "KBS US REIT continued to capture strong \n",
            "leasing demand from the technology and \n",
            "professional services sectors in Seattle. \n",
            "Keppel Infrastructure Trust has completed \n",
            "its acquisition of a 100% interest in Ixom, \n",
            "1\n",
            "Keppel Land expanded \n",
            "its presence in China \n",
            "in 2018 entering a new \n",
            "market with a residential \n",
            "land plot in Nanjing. \n",
            "2\n",
            "Keppel O&M’s proprietary \n",
            "RigCare Solution, \n",
            "implemented for the \n",
            "first time on Cantarell IV, \n",
            "will enhance the efficiency, \n",
            "safety and operability of \n",
            "the jackup rig.\n",
            "which is among the leading industrial \n",
            "infrastructure businesses in Australia and \n",
            "New Zealand, supplying and distributing \n",
            "water treatment chemicals, as well as \n",
            "industrial and specialty chemicals. \n",
            "2018 also marked the 10th anniversary \n",
            "of the Sino-Singapore Tianjin Eco-City, \n",
            "a flagship government-to-government \n",
            "project between China and Singapore. \n",
            "With the Eco-City’s growing maturity, \n",
            "we are seeing increasing demand for \n",
            "homes and land in the city. Our joint venture, \n",
            "the Sino-Singapore Tianjin Eco-City \n",
            "Investment and Development Co., Ltd., \n",
            "sold three residential land plots for \n",
            "RMB 3.4 billion in 2018, one of which \n",
            "was acquired by Keppel Land to tap the \n",
            "healthy demand for its green homes in \n",
            "the Eco-City.\n",
            "Leveraging the Group’s strong track record \n",
            "in master development, Keppel Urban \n",
            "Solutions (KUS) continues to make good \n",
            "progress in its pilot project, the 64-hectare \n",
            "Saigon Sports City in HCMC, which is \n",
            "being developed in collaboration with \n",
            "2\n",
            "Keppel Corporation Limited Report to Shareholders 2018   \n",
            "   13\n",
            "\n"
          ],
          "name": "stdout"
        }
      ]
    },
    {
      "cell_type": "code",
      "metadata": {
        "id": "_h4AN82U-EGo"
      },
      "source": [
        "'''\n",
        "getTextBlocks will return the following from a page\n",
        "xstart,ystart,xend,yend,text of each paragraph in the page.\n",
        "It also gives a value (0 or 1) which says that the given entity is a paragraph or Image 1 being image.\n",
        "'''\n",
        "coordinates=page.getTextBlocks()\n",
        "text_df=pd.DataFrame(coordinates)\n",
        "text_df.drop([5],axis=1,inplace=True)\n",
        "text_df.columns = ['x0','y0','x2','y2','Text','is_Image']"
      ],
      "execution_count": 21,
      "outputs": []
    },
    {
      "cell_type": "code",
      "metadata": {
        "colab": {
          "base_uri": "https://localhost:8080/"
        },
        "id": "dft58si3aJ5-",
        "outputId": "9e9b73a5-f512-47c5-9bfb-91223ff93d41"
      },
      "source": [
        "'''\n",
        "Create list of image Rectangles: lst_lst\n",
        "'''\n",
        "image_df=text_df[text_df['is_Image']==1]\n",
        "image_df['cord']=image_df.apply(lambda x:[float(x[0]),float(x[1]),float(x[2]),float(x[3])],axis=1)\n",
        "lst_lst=image_df['cord'].values.tolist()"
      ],
      "execution_count": 22,
      "outputs": [
        {
          "output_type": "stream",
          "text": [
            "/usr/local/lib/python3.7/dist-packages/ipykernel_launcher.py:5: SettingWithCopyWarning: \n",
            "A value is trying to be set on a copy of a slice from a DataFrame.\n",
            "Try using .loc[row_indexer,col_indexer] = value instead\n",
            "\n",
            "See the caveats in the documentation: https://pandas.pydata.org/pandas-docs/stable/user_guide/indexing.html#returning-a-view-versus-a-copy\n",
            "  \"\"\"\n",
            "\n"
          ],
          "name": "stderr"
        }
      ]
    },
    {
      "cell_type": "code",
      "metadata": {
        "id": "sGR5MPK0iTXa"
      },
      "source": [
        "def within(lst_lst,x):\n",
        "  '''\n",
        "  Checks whether the given box(x) lies within any of the given list of rectangles(lst_lst).\n",
        "  '''\n",
        "  for lst in lst_lst:\n",
        "    if x[0]>=lst[0] and x[1]>=lst[1] and x[2]<=lst[2] and x[3]<=lst[3]:\n",
        "      return True\n",
        "  return False\n"
      ],
      "execution_count": 23,
      "outputs": []
    },
    {
      "cell_type": "code",
      "metadata": {
        "id": "8nDtlukSHkSv"
      },
      "source": [
        "'''\n",
        "Remove the rows that have image details.\n",
        "Create a new column which tells us whether the given paragraph is inside image or not.\n",
        "Create a list which has the xstart values of all images and paragraphs inside images: removed_col_start\n",
        "Remove the paragraphs which are inside image.\n",
        "'''\n",
        "text_df=text_df[text_df['is_Image']!=1]\n",
        "text_df['Text_in_image']=text_df.apply(lambda x:within(lst_lst,[float(x['x0']),float(x['y0']),float(x['x2']),float(x['y2'])]),axis=1)\n",
        "\n",
        "removed = text_df[text_df['Text_in_image']==True]\n",
        "removed_col_start = removed['x0'].values.tolist()\n",
        "removed_col_start.extend(image_df['x0'].values.tolist())\n",
        "\n",
        "text_df=text_df[text_df['Text_in_image']==False]\n",
        "text_df.drop(columns=['is_Image','Text_in_image'],axis=1, inplace=True)"
      ],
      "execution_count": 24,
      "outputs": []
    },
    {
      "cell_type": "code",
      "metadata": {
        "id": "Yz28OM3eHoXJ"
      },
      "source": [
        "'''\n",
        "List of unique starting points of various paragraphs.\n",
        "Each point represents a text column as starting point of paragraphs/lines in text column is unique.\n",
        "'''\n",
        "unique_start_points = text_df['x0'].value_counts().index.tolist()"
      ],
      "execution_count": 25,
      "outputs": []
    },
    {
      "cell_type": "code",
      "metadata": {
        "colab": {
          "base_uri": "https://localhost:8080/"
        },
        "id": "p9S0oxeiIAod",
        "outputId": "66e46c32-4e64-46fa-85fc-f3f2718b65af"
      },
      "source": [
        "'''\n",
        "get_text_words will give the list of all words in the page along with co-ordinates.\n",
        "removing words that are there inside image.\n",
        "'''\n",
        "words_bb = page.get_text_words()\n",
        "print(len(words_bb))\n",
        "words_bb = [x for x in words_bb if not within(lst_lst,[x[0],x[1],x[2],x[3]])]\n",
        "print(len(words_bb))"
      ],
      "execution_count": 26,
      "outputs": [
        {
          "output_type": "stream",
          "text": [
            "715\n",
            "714\n"
          ],
          "name": "stdout"
        }
      ]
    },
    {
      "cell_type": "code",
      "metadata": {
        "id": "Fmp_m6ZbIm0d"
      },
      "source": [
        "'''\n",
        "For all the unique start points, we're getting the line end co-ordinates.\n",
        "'''\n",
        "\n",
        "line_end_dict = {pt:[] for pt in unique_start_points}\n",
        "prev = None\n",
        "prev_start_point = min(unique_start_points)\n",
        "line = ''\n",
        "for i in words_bb:\n",
        "  if i[0] in unique_start_points:\n",
        "    if prev is not None:\n",
        "      line_end_dict[prev_start_point].append(prev)\n",
        "      prev_start_point = i[0]\n",
        "      prev = i[2]\n",
        "    else:\n",
        "      continue\n",
        "  else:\n",
        "    prev = i[2]\n",
        "\n",
        "line_end_dict[prev_start_point].append(prev)  \n",
        "\n",
        "'''\n",
        "creating a list xmax for each column (from each line end x-coordinate of that text column)\n",
        "and also count the no. of lines in each text column\n",
        "'''\n",
        "max_column_end = {i:max(line_end_dict[i]) for i in line_end_dict}\n",
        "n_lines_column = {i:len(line_end_dict[i]) for i in line_end_dict}\n"
      ],
      "execution_count": 27,
      "outputs": []
    },
    {
      "cell_type": "code",
      "metadata": {
        "id": "VcCpWVVuIpHJ"
      },
      "source": [
        "'''\n",
        "removing text columns that has no more than 1 line. (Can be header or Footer)\n",
        "'''\n",
        "cols_to_keep=text_df.columns.tolist()\n",
        "text_df['column_end'] = text_df['x0'].apply(lambda x: max_column_end[x])\n",
        "text_df['n_lines'] = text_df['x0'].apply(lambda x: n_lines_column[x])\n",
        "column_df = text_df.groupby(['x0']).agg({'column_end':'max','n_lines':'max'}).reset_index()\n",
        "column_df['column_width'] = column_df['column_end']-column_df['x0']\n",
        "column_df = column_df[column_df['n_lines']>1]\n",
        "text_df = pd.merge(text_df,column_df,on=['x0'],how='inner')\n",
        "cols_to_keep.extend(['column_width','n_lines_x'])\n",
        "text_df = text_df[cols_to_keep]"
      ],
      "execution_count": 28,
      "outputs": []
    },
    {
      "cell_type": "code",
      "metadata": {
        "id": "aUsAsHQwKEZ2"
      },
      "source": [
        "'''\n",
        "Creating list of all line lengths\n",
        "'''\n",
        "total_line_lengths = []\n",
        "for i in line_end_dict:\n",
        "  if i in column_df['x0'].values.tolist():\n",
        "    list_col = [abs(x-i) for x in line_end_dict[i]]\n",
        "    total_line_lengths.extend(list_col)\n"
      ],
      "execution_count": 29,
      "outputs": []
    },
    {
      "cell_type": "code",
      "metadata": {
        "colab": {
          "base_uri": "https://localhost:8080/",
          "height": 282
        },
        "id": "WWr6su8XLUX6",
        "outputId": "c9edb5fe-6b99-4922-e96e-b6619c6c3c8e"
      },
      "source": [
        "'''\n",
        "Looks like there are few lines with less column width than usual...\n",
        "We can do some kind of clustering to remove the undesired ones\n",
        "'''\n",
        "sns.kdeplot(total_line_lengths)\n"
      ],
      "execution_count": 30,
      "outputs": [
        {
          "output_type": "execute_result",
          "data": {
            "text/plain": [
              "<matplotlib.axes._subplots.AxesSubplot at 0x7feab49e7810>"
            ]
          },
          "metadata": {
            "tags": []
          },
          "execution_count": 30
        },
        {
          "output_type": "display_data",
          "data": {
            "image/png": "[encoded data removed]",
            "text/plain": [
              "<Figure size 432x288 with 1 Axes>"
            ]
          },
          "metadata": {
            "tags": [],
            "needs_background": "light"
          }
        }
      ]
    },
    {
      "cell_type": "code",
      "metadata": {
        "id": "E2eLM34qLaAc"
      },
      "source": [
        "''''\n",
        "Taking the line lengths and apply standard scaler to it and then fit DBSCAN to this...\n",
        "Taking the class that has max points (Assumption is the desired text columns will have more lines compared to the undesired text columns).\n",
        "Now setting the threshold of min line length in all the lines that belongs to class that has max no.of lines.\n",
        "'''\n",
        "data = np.array(total_line_lengths)\n",
        "scaler = StandardScaler()\n",
        "data = scaler.fit_transform(data.reshape(-1,1))\n",
        "model = DBSCAN(min_samples=5)\n",
        "class_ = model.fit_predict(data)\n",
        "lengths = pd.DataFrame()\n",
        "lengths['Length'] = total_line_lengths\n",
        "lengths['class'] = class_\n",
        "class_max_points = lengths['class'].value_counts().index.values[0]\n",
        "min_value_threshold_for_col = lengths[lengths['class']==class_max_points].min().values[0]\n"
      ],
      "execution_count": 31,
      "outputs": []
    },
    {
      "cell_type": "code",
      "metadata": {
        "colab": {
          "base_uri": "https://localhost:8080/",
          "height": 282
        },
        "id": "AhpttwUjNB2i",
        "outputId": "cc25a583-68a4-449e-e79f-ab927d0548c1"
      },
      "source": [
        "'''\n",
        "This looks a bit better than the previous plot.\n",
        "'''\n",
        "sns.kdeplot([x for x in total_line_lengths if x>min_value_threshold_for_col])"
      ],
      "execution_count": 32,
      "outputs": [
        {
          "output_type": "execute_result",
          "data": {
            "text/plain": [
              "<matplotlib.axes._subplots.AxesSubplot at 0x7fea9878bc90>"
            ]
          },
          "metadata": {
            "tags": []
          },
          "execution_count": 32
        },
        {
          "output_type": "display_data",
          "data": {
            "image/png": "[encoded data removed]",
            "text/plain": [
              "<Figure size 432x288 with 1 Axes>"
            ]
          },
          "metadata": {
            "tags": [],
            "needs_background": "light"
          }
        }
      ]
    },
    {
      "cell_type": "code",
      "metadata": {
        "id": "ZiBvlr2ENIHU"
      },
      "source": [
        "'''\n",
        "Now removing all the paragraphs that has lesser max width than the threshold.\n",
        "Sort the table by x0 and y0\n",
        "'''\n",
        "text_df = text_df[text_df['column_width']>min_value_threshold_for_col]\n",
        "text_df.sort_values(['x0','y0'],inplace=True)"
      ],
      "execution_count": 33,
      "outputs": []
    },
    {
      "cell_type": "code",
      "metadata": {
        "id": "D4-tgPK3NakH"
      },
      "source": [
        "text_df['Text'].to_csv('text_in_page.csv',index=False)"
      ],
      "execution_count": 34,
      "outputs": []
    },
    {
      "cell_type": "code",
      "metadata": {
        "id": "KBCBhB7lNfpU"
      },
      "source": [
        ""
      ],
      "execution_count": null,
      "outputs": []
    }
  ]
}